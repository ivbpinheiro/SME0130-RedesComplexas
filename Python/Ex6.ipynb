{
  "nbformat": 4,
  "nbformat_minor": 0,
  "metadata": {
    "colab": {
      "provenance": []
    },
    "kernelspec": {
      "name": "python3",
      "display_name": "Python 3"
    },
    "language_info": {
      "name": "python"
    }
  },
  "cells": [
    {
      "cell_type": "code",
      "execution_count": 61,
      "metadata": {
        "id": "Lek5qq1Sr5Kc"
      },
      "outputs": [],
      "source": [
        "import networkx as nx\n",
        "import numpy as np\n",
        "from numpy  import *\n",
        "import math\n",
        "import pandas as pd\n",
        "from scipy.stats import pearsonr\n",
        "from scipy.stats import spearmanr\n",
        "import statistics"
      ]
    },
    {
      "cell_type": "code",
      "source": [
        "def degree_distribution(GER):\n",
        "    vk = dict(GER.degree())\n",
        "    vk = list(vk.values()) \n",
        "    maxk = np.max(vk)\n",
        "    mink = np.min(min)\n",
        "    kvalues= arange(0,maxk+1) \n",
        "    Pk = np.zeros(maxk+1) \n",
        "    for k in vk:\n",
        "        Pk[k] = Pk[k] + 1\n",
        "    Pk = Pk/sum(Pk) \n",
        "    return kvalues,Pk"
      ],
      "metadata": {
        "id": "e1obF2phwKhf"
      },
      "execution_count": 5,
      "outputs": []
    },
    {
      "cell_type": "code",
      "source": [
        "def momment_of_degree_distribution(G,m):\n",
        "    k,Pk = degree_distribution(G)\n",
        "    M = sum((k**m)*Pk)\n",
        "    return M"
      ],
      "metadata": {
        "id": "UKtwLJqavooa"
      },
      "execution_count": 6,
      "outputs": []
    },
    {
      "cell_type": "code",
      "source": [
        "def average_clustering (self):\n",
        "  avc = nx.average_clustering(self)\n",
        "  return avc"
      ],
      "metadata": {
        "id": "MEn62lOAvqnJ"
      },
      "execution_count": 7,
      "outputs": []
    },
    {
      "cell_type": "code",
      "source": [
        "def average_degree(self):\n",
        "  N = len(self)\n",
        "  M = self.number_of_edges()\n",
        "  return 2*M/N"
      ],
      "metadata": {
        "id": "wfSe35hLv0BD"
      },
      "execution_count": 8,
      "outputs": []
    },
    {
      "cell_type": "code",
      "source": [
        "def random_graphs(N, p):\n",
        "  return nx.gnp_random_graph(N, p)"
      ],
      "metadata": {
        "id": "F7uG8W6uxJbn"
      },
      "execution_count": 9,
      "outputs": []
    },
    {
      "cell_type": "code",
      "source": [
        "def random_graphs_small(N, av_degree, p):\n",
        "  return nx.watts_strogatz_graph(N, av_degree, p, seed=None)"
      ],
      "metadata": {
        "id": "0QMCbIb_2tkP"
      },
      "execution_count": 10,
      "outputs": []
    },
    {
      "cell_type": "code",
      "source": [
        "def distances(self):\n",
        "    N = len(self)\n",
        "    vl = []\n",
        "    for i in np.arange(0, N):\n",
        "        for j in np.arange(i+1, N):\n",
        "            if(i != j):\n",
        "                aux = nx.shortest_path(self,i,j)\n",
        "                vl.append(len(aux)-1)\n",
        "    return vl\n",
        "\n",
        "def shannon_entropy(G):\n",
        "    k,Pk = degree_distribution(G)\n",
        "    H = 0\n",
        "    for p in Pk:\n",
        "        if(p > 0):\n",
        "            H = H - p*math.log(p, 2)\n",
        "    return H"
      ],
      "metadata": {
        "id": "ylviTrGZ3zBq"
      },
      "execution_count": 11,
      "outputs": []
    },
    {
      "cell_type": "markdown",
      "source": [
        "**Exercicio 1:**\n",
        "\n",
        "Calcule o coeficiente aglomeração e segundo momento do grau para uma rede BA com grau médio igual a 10 e N=1000."
      ],
      "metadata": {
        "id": "HEB5UqxZ3OcP"
      }
    },
    {
      "cell_type": "code",
      "source": [
        "N = 1000\n",
        "av_degree = 10\n",
        "i = 0\n",
        "list_momments = []\n",
        "list_avg = []\n",
        "while (i < 10):\n",
        "  m = int(av_degree/2)\n",
        "  G = nx.barabasi_albert_graph(N, m)\n",
        "  Gcc = sorted(nx.connected_components(G), key=len, reverse=True)\n",
        "  G = G.subgraph(Gcc[0])\n",
        "  avg_c = np.mean(list(nx.clustering(G).values()))\n",
        "  momment = momment_of_degree_distribution(G, 2)\n",
        "  list_avg.append(avg_c)\n",
        "  list_momments.append(momment)\n",
        "  i += 1\n",
        "\n",
        "avg_momments = statistics.mean(list_momments)\n",
        "avg_c = statistics.mean(list_avg)\n",
        "print(\"AVG: %.3f\"%avg_c, \"Momment: %.f\"%avg_momments)"
      ],
      "metadata": {
        "colab": {
          "base_uri": "https://localhost:8080/"
        },
        "id": "NSn65tZ-yhb3",
        "outputId": "5325009f-79c8-4661-cc50-30281540cec9"
      },
      "execution_count": 117,
      "outputs": [
        {
          "output_type": "stream",
          "name": "stdout",
          "text": [
            "AVG: 0.040 Momment: 202\n"
          ]
        }
      ]
    },
    {
      "cell_type": "markdown",
      "source": [
        "**Exercicio 2:**\n",
        "Considere uma rede aleatória (Erdos-Renyi) e uma rede BA com N=1000 vértices e grau médio 10. Qual o valor da entropia de Shannon da distribuição do grau para essas redes?"
      ],
      "metadata": {
        "id": "Y1O-mP_F8wdf"
      }
    },
    {
      "cell_type": "code",
      "source": [
        "N = 1000\n",
        "av_degree = 10\n",
        "\n",
        "p_erdos = av_degree/(N-1)\n",
        "G_erdos = nx.erdos_renyi_graph(N, p_erdos)\n",
        "H_erdos = shannon_entropy(G_erdos)\n",
        "\n",
        "m_barabasi = int(av_degree/2)\n",
        "G_barabasi = nx.barabasi_albert_graph(N, m_barabasi)\n",
        "H_barabasi = shannon_entropy(G_barabasi)\n",
        "\n",
        "print(\"Erdos-Renyi: %.1f\"%H_erdos, \"| Barabási-Albert: %.1f\"%H_barabasi)"
      ],
      "metadata": {
        "colab": {
          "base_uri": "https://localhost:8080/"
        },
        "id": "VZXzicDB00av",
        "outputId": "03b0d15f-6201-4e51-9b27-114cca86e7c1"
      },
      "execution_count": 21,
      "outputs": [
        {
          "output_type": "stream",
          "name": "stdout",
          "text": [
            "Erdos-Renyi: 3.7 | Barabási-Albert: 3.6\n"
          ]
        }
      ]
    },
    {
      "cell_type": "markdown",
      "source": [
        "**Exercicio 3:**\n",
        "\n",
        "Considere o modelo de Barabási-Albert com N=1000 e grau médio igual a 10. Calcule o coeficiente de correlação entre o grau e a medida eigenvector centrality. "
      ],
      "metadata": {
        "id": "yGDrrOWe-c3R"
      }
    },
    {
      "cell_type": "code",
      "source": [
        "N = 1000\n",
        "av_degree = 10\n",
        "\n",
        "m_barabasi = av_degree // 2\n",
        "G_barabasi = nx.barabasi_albert_graph(N, m_barabasi)\n",
        "dict_degree = dict(G_barabasi.degree())\n",
        "dict_eigenvector_c = nx.eigenvector_centrality(G_barabasi)\n",
        "df_degree = pd.DataFrame.from_dict(dict_degree, orient=\"index\", columns=[\"degree\"]).reset_index()\n",
        "df_eigenvector_c = pd.DataFrame.from_dict(dict_eigenvector_c, orient=\"index\", columns=[\"eigen\"]).reset_index()\n",
        "\n",
        "df = df_degree.merge(df_eigenvector_c, on=\"index\", how=\"inner\")\n",
        "\n",
        "rho, _ = pearsonr(df.degree, df.eigen)\n",
        "\n",
        "print(\"Pearson Coefficient: {:.1f}\".format(rho))"
      ],
      "metadata": {
        "colab": {
          "base_uri": "https://localhost:8080/"
        },
        "id": "tsDvaob13Yyw",
        "outputId": "da284238-813f-4985-caee-ca60aeec1d1f"
      },
      "execution_count": 40,
      "outputs": [
        {
          "output_type": "stream",
          "name": "stdout",
          "text": [
            "Pearson Coefficient: 0.9\n"
          ]
        }
      ]
    },
    {
      "cell_type": "markdown",
      "source": [
        "**Exercicio 4:**\n",
        "\n",
        "Calcule a correlação entre a medida betweeness centrality e o grau para uma rede BA. Considere N=500 e grau médio 10."
      ],
      "metadata": {
        "id": "seN6V-vLUNox"
      }
    },
    {
      "cell_type": "code",
      "source": [
        "N = 500\n",
        "av_degree = 10\n",
        "\n",
        "m_barabasi = int(av_degree/2)\n",
        "G_barabasi = nx.barabasi_albert_graph(N, m_barabasi)\n",
        "\n",
        "dict_degree = dict(nx.degree(G_barabasi))\n",
        "dict_betweenness_c = nx.betweenness_centrality(G_barabasi)\n",
        "\n",
        "df_degree = pd.DataFrame.from_dict(dict_degree, orient = \"index\", columns = [\"degree\"]).reset_index()\n",
        "df_betweenness_c = pd.DataFrame.from_dict(dict_betweenness_c, orient = \"index\", columns = [\"betweenness\"]).reset_index()\n",
        "\n",
        "df = df_degree.merge(df_betweenness_c, on = \"index\", how = \"inner\")\n",
        "\n",
        "rho, _ = pearsonr(df.degree, df.betweenness)\n",
        "corr, _ = spearmanr(df.degree, df.betweenness)\n",
        "\n",
        "print(\"Pearson Coefficient: %.2f\"%rho)"
      ],
      "metadata": {
        "colab": {
          "base_uri": "https://localhost:8080/"
        },
        "id": "H_NBcQe36_1D",
        "outputId": "6310999e-69f1-4fbe-97f0-b5ad673c9d59"
      },
      "execution_count": 53,
      "outputs": [
        {
          "output_type": "stream",
          "name": "stdout",
          "text": [
            "Pearson Coefficient: 0.96\n"
          ]
        }
      ]
    },
    {
      "cell_type": "markdown",
      "source": [
        "**Exercicio 5:**\n",
        "\n",
        "Calcule o segundo momento do grau para o modelo de configuração com a=3. Considere N=500. Selecione o valor mais próximo, pois pode haver alguma variação devido à natureza estocástica da simulação. Use:\n",
        "G0=nx.configuration_model(seq)\n",
        "\n",
        "Gcc = sorted(nx.connected_components(G0), key=len, reverse=True)\n",
        "\n",
        "G = G0.subgraph(Gcc[0])"
      ],
      "metadata": {
        "id": "s5l_9Ks90nO1"
      }
    },
    {
      "cell_type": "code",
      "source": [
        "from random import *\n",
        "np.random.seed()\n",
        "N = 500\n",
        "a = 3\n",
        "list_momments = []\n",
        "\n",
        "for i in range(10):\n",
        "  seq = np.random.zipf(a, N) \n",
        "  if(sum(seq)%2 != 0): \n",
        "      pos = randint(0, len(seq))\n",
        "      seq[pos] = seq[pos]+ 1\n",
        "\n",
        "  G=nx.configuration_model(seq)\n",
        "  Gcc = sorted(nx.connected_components(G), key=len, reverse=True)\n",
        "  G = G.subgraph(Gcc[0])\n",
        "  momment = momment_of_degree_distribution(G, 2)\n",
        "  list_momments.append(momment)\n",
        "\n",
        "avg_momments = statistics.mean(list_momments)\n",
        "print(\"Momment: %.1f\"%avg_momments)"
      ],
      "metadata": {
        "colab": {
          "base_uri": "https://localhost:8080/"
        },
        "id": "e147V1Uw8_AS",
        "outputId": "c23f4f20-f8e1-45ae-e9de-2c9d2f526f45"
      },
      "execution_count": 107,
      "outputs": [
        {
          "output_type": "stream",
          "name": "stdout",
          "text": [
            "Momment: 12.5\n"
          ]
        }
      ]
    }
  ]
}